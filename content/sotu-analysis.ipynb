{
 "cells": [
  {
   "cell_type": "markdown",
   "metadata": {},
   "source": [
    "The State of the Union (SOTU) address is an address by the president of the United States to a joint session of Congress. This is a way for the president to comment on the well, state of the union. Legislative agendas and policy priorities are outlined. They tend to be fairly optimistic about the near term prospects for the country. \n",
    "\n",
    "These addresses give a good indication of what things are important to the American people (or at least the America president) during different time periods. I was curious if there were recurring themes that were present and if we could correlate topics found in these addresses to important world events. \n",
    "\n",
    "I've taken all of the SOTUs from [The American Presidency Project](http://www.presidency.ucsb.edu/sou.php) and have used notes by Gerhard Peters. He points out that some of these are not technically State of the Union addresses, but for our purposes I'll be treating them as such. There are several that were both radio addresses and written statements to Congress. I've taken only the written component of those. There are also several that were split over several days and over several documents (see Taft 1911-1912 and Nixon 1973). I've collected them each of those into a single document indexed by the first document that was delivered to Congress. That makes the analysis simpler down the road. \n",
    "\n",
    "We'll start off with some basis statistics and then we'll try to identify the topics in these texts. "
   ]
  },
  {
   "cell_type": "code",
   "execution_count": 1,
   "metadata": {},
   "outputs": [],
   "source": [
    "# Load some useful things\n",
    "import re\n",
    "from datetime import datetime, date, timedelta\n",
    "from os import listdir\n",
    "import numpy as np\n",
    "import pandas as pd\n",
    "import seaborn as sns\n",
    "import matplotlib.pyplot as plt\n",
    "%matplotlib inline\n",
    "plt.rcParams['figure.figsize'] = (10, 6)\n",
    "\n",
    "from sklearn.feature_extraction.text import TfidfVectorizer\n",
    "from sklearn.feature_extraction.text import CountVectorizer\n",
    "from sklearn.decomposition import NMF\n",
    "from sklearn.decomposition import LatentDirichletAllocation\n",
    "from sklearn import metrics"
   ]
  },
  {
   "cell_type": "markdown",
   "metadata": {},
   "source": [
    "I've copied all the SOTUs from The American Presidency Project. It was slow and tedious, so I worked on it while watching silly things on Netflix. I'd like to learn how to crawl webpages and pull down data, so maybe that will be another project in the future. \n",
    "\n",
    "The first thing to do for our analyses is grab the SOTUs and save them as strings. We also want to save some information about the speech as well. The name of the president and the year that the SOTU was delivered are available in the name of the text file."
   ]
  },
  {
   "cell_type": "code",
   "execution_count": 2,
   "metadata": {
    "scrolled": true
   },
   "outputs": [
    {
     "data": {
      "text/html": [
       "<div>\n",
       "<style scoped>\n",
       "    .dataframe tbody tr th:only-of-type {\n",
       "        vertical-align: middle;\n",
       "    }\n",
       "\n",
       "    .dataframe tbody tr th {\n",
       "        vertical-align: top;\n",
       "    }\n",
       "\n",
       "    .dataframe thead th {\n",
       "        text-align: right;\n",
       "    }\n",
       "</style>\n",
       "<table border=\"1\" class=\"dataframe\">\n",
       "  <thead>\n",
       "    <tr style=\"text-align: right;\">\n",
       "      <th></th>\n",
       "      <th>date</th>\n",
       "      <th>delivery</th>\n",
       "      <th>president</th>\n",
       "      <th>sotu</th>\n",
       "    </tr>\n",
       "  </thead>\n",
       "  <tbody>\n",
       "    <tr>\n",
       "      <th>0</th>\n",
       "      <td>1790-01-08</td>\n",
       "      <td>spoken</td>\n",
       "      <td>george washington</td>\n",
       "      <td>fellow-citizens of the senate and house of rep...</td>\n",
       "    </tr>\n",
       "    <tr>\n",
       "      <th>1</th>\n",
       "      <td>1790-12-08</td>\n",
       "      <td>spoken</td>\n",
       "      <td>george washington</td>\n",
       "      <td>fellow-citizens of the senate and house of rep...</td>\n",
       "    </tr>\n",
       "    <tr>\n",
       "      <th>2</th>\n",
       "      <td>1791-10-25</td>\n",
       "      <td>spoken</td>\n",
       "      <td>george washington</td>\n",
       "      <td>fellow-citizens of the senate and house of rep...</td>\n",
       "    </tr>\n",
       "    <tr>\n",
       "      <th>3</th>\n",
       "      <td>1792-11-06</td>\n",
       "      <td>spoken</td>\n",
       "      <td>george washington</td>\n",
       "      <td>fellow-citizens of the senate and house of rep...</td>\n",
       "    </tr>\n",
       "    <tr>\n",
       "      <th>4</th>\n",
       "      <td>1793-12-03</td>\n",
       "      <td>spoken</td>\n",
       "      <td>george washington</td>\n",
       "      <td>fellow-citizens of the senate and house of rep...</td>\n",
       "    </tr>\n",
       "  </tbody>\n",
       "</table>\n",
       "</div>"
      ],
      "text/plain": [
       "         date delivery          president  \\\n",
       "0  1790-01-08   spoken  george washington   \n",
       "1  1790-12-08   spoken  george washington   \n",
       "2  1791-10-25   spoken  george washington   \n",
       "3  1792-11-06   spoken  george washington   \n",
       "4  1793-12-03   spoken  george washington   \n",
       "\n",
       "                                                sotu  \n",
       "0  fellow-citizens of the senate and house of rep...  \n",
       "1  fellow-citizens of the senate and house of rep...  \n",
       "2  fellow-citizens of the senate and house of rep...  \n",
       "3  fellow-citizens of the senate and house of rep...  \n",
       "4  fellow-citizens of the senate and house of rep...  "
      ]
     },
     "execution_count": 2,
     "metadata": {},
     "output_type": "execute_result"
    }
   ],
   "source": [
    "corpus, president, date_list, delivery_list = [], [], [], []\n",
    "delivery_type = ['spoken','written']\n",
    "\n",
    "# Load data for all SOTU addresses\n",
    "for delivery in delivery_type:\n",
    "    directory = 'sotu-texts/%s/' % delivery\n",
    "    for f_name in listdir(directory):\n",
    "        corpus.append(open(directory+f_name, 'r', encoding='utf8')\n",
    "                      .read().replace('\\n','').lower())\n",
    "        president.append(' '.join(re.split('/|-',f_name)[0:2]))\n",
    "        date_info = re.split('/|-|\\.',f_name)[2:5]\n",
    "        date_list.append(date(int(date_info[2]),\n",
    "                         datetime.strptime(date_info[0], '%b').month,\n",
    "                         int(date_info[1])))\n",
    "        delivery_list.append(delivery)\n",
    "    \n",
    "# Save everything in a dataframe\n",
    "sotu_df = pd.DataFrame({'sotu':      corpus,\n",
    "                        'president': president,\n",
    "                        'date':      date_list,\n",
    "                        'delivery':  delivery_list\n",
    "                       })\n",
    "sotu_df = sotu_df.sort_values(by='date').reset_index(drop=True)\n",
    "sotu_df.head()"
   ]
  },
  {
   "cell_type": "markdown",
   "metadata": {},
   "source": [
    "First we might be curious about the length of these addresses. \n",
    "\n",
    "There is data available on [how many minutes](http://www.presidency.ucsb.edu/sou_minutes.php) each spoken SOTU was , but it's not available for all of them and obviously not for the written ones. We'll just stick with number of words then. \n",
    "\n",
    "We'll want to get rid of the contractions in these SOTUs as this will make our lives easier later on. We'll define a dictionary of English contractions with some help from [StackOverflow](https://stackoverflow.com/questions/19790188/expanding-english-language-contractions-in-python). I used a dictionary from user [arturomp](https://stackoverflow.com/users/583834/arturomp) to save myself some time typing. "
   ]
  },
  {
   "cell_type": "code",
   "execution_count": 3,
   "metadata": {},
   "outputs": [],
   "source": [
    "# import a dictionary of English contractions from another file\n",
    "from contractions import *\n",
    "contraction_dict = english_contractions()\n",
    "\n",
    "# replace the contractions with their expanded form\n",
    "for contraction, expansion in contraction_dict.items():\n",
    "    sotu_df['sotu'] = sotu_df['sotu'].str.replace(contraction.lower(),expansion.lower())\n",
    "    \n",
    "# check that we got all of them\n",
    "for contraction, expansion in contraction_dict.items():\n",
    "    if True in list(sotu_df['sotu'].str.contains(contraction.lower())):\n",
    "        print(\"Warning: found contraction\")"
   ]
  },
  {
   "cell_type": "markdown",
   "metadata": {},
   "source": [
    "We can use a scikit-learn vectorizer to cleanly determine how many words are in each speech. We could also just split the text ourselves on whitespace, but this feels like the more data sciencey approach. Plus we'll be using this tool more down below. "
   ]
  },
  {
   "cell_type": "code",
   "execution_count": 4,
   "metadata": {},
   "outputs": [],
   "source": [
    "# Determine the number of words in each SOTU\n",
    "vectorizer = TfidfVectorizer()\n",
    "analyze = vectorizer.build_analyzer()\n",
    "sotu_df['sotu_length'] = [len(analyze(text)) for text in sotu_df['sotu']]"
   ]
  },
  {
   "cell_type": "markdown",
   "metadata": {},
   "source": [
    "We might want to look at how the length of these addresses have changed over time. We'll make a scatter plot and separate the spoken and written speeches since they're likely to be qualitatively different."
   ]
  },
  {
   "cell_type": "code",
   "execution_count": 5,
   "metadata": {
    "scrolled": false
   },
   "outputs": [
    {
     "name": "stdout",
     "output_type": "stream",
     "text": [
      "Summary for spoken SOTUs\n",
      "------------------------------\n",
      "Shortest SOTU :  1057 words by george washington on 1790-01-08\n",
      "Longest  SOTU :  9569 words by dwight eisenhower on 1953-02-02\n",
      "\n",
      "Summary for written SOTUs\n",
      "------------------------------\n",
      "Shortest SOTU :  1783 words by james madison on 1809-11-29\n",
      "Longest  SOTU : 32997 words by jimmy carter on 1981-01-16\n",
      "\n"
     ]
    },
    {
     "data": {
      "image/png": "[encoded data removed]",
      "text/plain": [
       "<matplotlib.figure.Figure at 0x116cbea20>"
      ]
     },
     "metadata": {},
     "output_type": "display_data"
    }
   ],
   "source": [
    "# Separate the spoken and written SOTUs\n",
    "spoken_df  = sotu_df[sotu_df['delivery'] == 'spoken']\n",
    "written_df = sotu_df[sotu_df['delivery'] == 'written']\n",
    "\n",
    "# Make a scatter plot\n",
    "ax = spoken_df.plot(x='date', y='sotu_length', label='spoken', style='o', ms=8)\n",
    "written_df.plot(x='date', y='sotu_length', label='written', style='kx', ms=8, ax=ax)\n",
    "ax.xaxis.set_ticks(np.arange('1790', '2017', 15, dtype='datetime64[Y]'))\n",
    "\n",
    "# Print out the min/max length SOTUs\n",
    "def print_min_max(df,delivery):\n",
    "    '''Print out the min and maximum length SOTUs'''\n",
    "    \n",
    "    min_id, max_id = df['sotu_length'].idxmin(), df['sotu_length'].idxmax()\n",
    "    print('Summary for %s SOTUs' % delivery)\n",
    "    print('-'*30)\n",
    "    print(\"Shortest SOTU : %5d words by %s on %s\" % \n",
    "          (df['sotu_length'].loc[min_id], df['president'].loc[min_id], \n",
    "           str(df['date'].loc[min_id])))\n",
    "    print(\"Longest  SOTU : %5d words by %s on %s\\n\" % \n",
    "          (df['sotu_length'].loc[max_id], df['president'].loc[max_id], \n",
    "           str(df['date'].loc[max_id])))\n",
    "\n",
    "print_min_max(spoken_df,'spoken')\n",
    "print_min_max(written_df,'written')"
   ]
  },
  {
   "cell_type": "markdown",
   "metadata": {},
   "source": [
    "This is interesting. The written SOTUs are much longer than the spoken ones, so splitting up the SOTUs by delivery looks like it was a good idea. Now let's plot the distribution of the speech lengths to get an idea of how long they typically are. \n",
    "\n",
    "A split violin plot will be nice way to show how these distributions compare to one another. Since seaborn needs a common access to do this kind of plot, I've added another column for 'y' that is just blank. I've added this to a separation dataframe since it's not necessary otherwise. "
   ]
  },
  {
   "cell_type": "code",
   "execution_count": 6,
   "metadata": {},
   "outputs": [
    {
     "name": "stdout",
     "output_type": "stream",
     "text": [
      "Summary for spoken SOTUs\n",
      "------------------------------\n",
      "count     100.000000\n",
      "mean     4760.400000\n",
      "std      1782.670899\n",
      "min      1057.000000\n",
      "25%      3648.000000\n",
      "50%      4797.500000\n",
      "75%      5897.500000\n",
      "max      9569.000000\n",
      "Name: sotu_length, dtype: float64\n",
      "\n",
      "Summary for written SOTUs\n",
      "------------------------------\n",
      "count      137.000000\n",
      "mean     10882.846715\n",
      "std       6545.971378\n",
      "min       1783.000000\n",
      "25%       6689.000000\n",
      "50%       9626.000000\n",
      "75%      13610.000000\n",
      "max      32997.000000\n",
      "Name: sotu_length, dtype: float64\n",
      "\n"
     ]
    },
    {
     "data": {
      "image/png": "[encoded data removed]",
      "text/plain": [
       "<matplotlib.figure.Figure at 0x116d3c470>"
      ]
     },
     "metadata": {},
     "output_type": "display_data"
    }
   ],
   "source": [
    "# make a new dataframe for plotting\n",
    "violin_df = sotu_df.copy()\n",
    "violin_df['y'] = ''\n",
    "\n",
    "# make the violin plot\n",
    "ax = sns.violinplot(y='y', x=\"sotu_length\", hue=\"delivery\",\n",
    "                    data=violin_df, split=True, inner=\"quart\")\n",
    "ax.set_yticklabels('');\n",
    "ax.set_ylabel('');\n",
    "\n",
    "# Print out summary statistics for SOTUs\n",
    "def print_stats(df,delivery):\n",
    "    '''Print out summary statistics for SOTUs'''\n",
    "    \n",
    "    print('Summary for %s SOTUs' % delivery)\n",
    "    print('-'*30)\n",
    "    print(df['sotu_length'].describe())\n",
    "    print()\n",
    "\n",
    "print_stats(spoken_df,'spoken')\n",
    "print_stats(written_df,'written')"
   ]
  },
  {
   "cell_type": "markdown",
   "metadata": {},
   "source": [
    "Wow! The spoken SOTUs look pretty normally distributed and the written ones look very skewed. \n",
    "\n",
    "Let's print out some summary statistics to get a better understanding of these distributions."
   ]
  },
  {
   "cell_type": "code",
   "execution_count": 7,
   "metadata": {},
   "outputs": [
    {
     "name": "stdout",
     "output_type": "stream",
     "text": [
      "Summary for spoken SOTUs\n",
      "------------------------------\n",
      "Average Length : 4760.40 words\n",
      "Skew           : 0.21\n",
      "Kurtosis       : -0.09\n",
      "\n",
      "Summary for written SOTUs\n",
      "------------------------------\n",
      "Average Length : 10882.85 words\n",
      "Skew           : 1.07\n",
      "Kurtosis       : 1.17\n",
      "\n"
     ]
    }
   ],
   "source": [
    "def print_dist_summary(df,delivery):\n",
    "    '''Print summary of SOTU length distributions'''\n",
    "    \n",
    "    print('Summary for %s SOTUs' % delivery)\n",
    "    print('-'*30)\n",
    "    print('Average Length : %6.2f words' % df['sotu_length'].mean())\n",
    "    print('Skew           : %4.2f' % df['sotu_length'].skew())\n",
    "    print('Kurtosis       : %4.2f\\n' % df['sotu_length'].kurtosis())\n",
    "\n",
    "print_dist_summary(spoken_df,'spoken')\n",
    "print_dist_summary(written_df,'written')"
   ]
  },
  {
   "cell_type": "markdown",
   "metadata": {},
   "source": [
    "I think we're ready to get into the real machine learning part of this investigation. "
   ]
  },
  {
   "cell_type": "markdown",
   "metadata": {},
   "source": [
    "# Text Content Analysis\n",
    "\n",
    "Now let's get to identifying topics common in these texts. This will give us a way to understand commonalities among them and what things were important to the American people (or at least the American president) during these eras.\n",
    "\n",
    "The TfidfVectorizer vectorizer will be helpful as it gives us a way to limit the importance of extremely common words like 'the' and 'a' that provide us no information about the documents. This module will scale words by their inverse document frequency, so those common words will be weighted less when we breakdown the documents into their different words. \n",
    "\n",
    "I've borrowed some code and ideas from Aneesha Bakharia's blog post on [Topic Modeling with Skikit Learn](https://medium.com/towards-data-science/improving-the-interpretation-of-topic-models-87fd2ee3847d) and his [follow up piece](https://medium.com/towards-data-science/improving-the-interpretation-of-topic-models-87fd2ee3847d). I believe he worked closely off of this [sklearn example](http://scikit-learn.org/stable/auto_examples/applications/plot_topics_extraction_with_nmf_lda.html#sphx-glr-auto-examples-applications-plot-topics-extraction-with-nmf-lda-py), but he added some nice ways to analyze the results from these models in more detail. "
   ]
  },
  {
   "cell_type": "code",
   "execution_count": 8,
   "metadata": {},
   "outputs": [],
   "source": [
    "def display_topics(model, W, feature_names, df, \n",
    "                   n_top_words, n_top_documents):\n",
    "    ''' Print out topics discovered by a model and which documents contain those topics '''\n",
    "    \n",
    "    for topic_idx, topic in enumerate(model.components_):\n",
    "        print('Topic #%d: %s' % (topic_idx, ' '.join([feature_names[i]\n",
    "                        for i in topic.argsort()[:-n_top_words - 1:-1]])))\n",
    "\n",
    "        top_doc_indices = np.argsort( W[:,topic_idx] )[::-1][0:n_top_documents]\n",
    "        for doc_index in top_doc_indices:\n",
    "            print('%20s on %s' % (df['president'][doc_index], df['date'][doc_index]))\n",
    "        print('')\n",
    "\n",
    "# define the number of samples, features, topics, and how many \n",
    "# words/documents to display later on\n",
    "n_samples       = 2000\n",
    "n_features      = 1000\n",
    "n_topics        = 15\n",
    "n_top_words     = 10\n",
    "n_top_documents = 5"
   ]
  },
  {
   "cell_type": "markdown",
   "metadata": {},
   "source": [
    "First we'll define our vectorizer. We'll ignore words that appear in more than 95% of the documents and words that appear in less than 2 documents."
   ]
  },
  {
   "cell_type": "code",
   "execution_count": 9,
   "metadata": {},
   "outputs": [],
   "source": [
    "# Use tf-idf features for NMF.\n",
    "tfidf_vectorizer = TfidfVectorizer(max_df=0.95, min_df=2,\n",
    "                                   max_features=n_features,\n",
    "                                   stop_words='english')\n",
    "tfidf = tfidf_vectorizer.fit_transform(sotu_df['sotu'])"
   ]
  },
  {
   "cell_type": "markdown",
   "metadata": {},
   "source": [
    "We'll be using a Non-negative Matrix Factorization (NMF) to extract the topics from these texts. It breaks down a matrix of documents into linear combinations of topics. The [wikipedia page](https://en.wikipedia.org/wiki/Non-negative_matrix_factorization) gives a good introduction to the topic. I'm using the Frobenius norm as my error metric and have included a little bit of L1 regularization. \n",
    "\n",
    "There are other metrics we could use and we could use another approach like [Latent Dirichlet Allocation](http://scikit-learn.org/stable/modules/generated/sklearn.decomposition.LatentDirichletAllocation.html), but when I tried these there was no appreciable difference to my first approach. \n",
    "\n",
    "For our purposes, it's only important to know that I'm extracting the main topics that are common to the different SOTUs. Things that don't show up often won't be identified. "
   ]
  },
  {
   "cell_type": "code",
   "execution_count": 10,
   "metadata": {
    "scrolled": true
   },
   "outputs": [
    {
     "name": "stdout",
     "output_type": "stream",
     "text": [
      "\n",
      "Topics in NMF model (Frobenius norm):\n",
      "\n",
      "Topic #0: general present subject 000 citizens shall law department act attention\n",
      "    millard fillmore on 1851-12-02\n",
      "      andrew jackson on 1829-12-08\n",
      "      james buchanan on 1858-12-06\n",
      "      andrew jackson on 1832-12-04\n",
      "    millard fillmore on 1852-12-06\n",
      "\n",
      "Topic #1: america tonight americans help american world years let budget make\n",
      "     william clinton on 1998-01-27\n",
      "     william clinton on 1997-02-04\n",
      "     william clinton on 2000-01-27\n",
      "     william clinton on 1999-01-19\n",
      "        georgeW bush on 2004-01-20\n",
      "\n",
      "Topic #2: program federal economic legislation administration programs development farm housing problems\n",
      "   dwight eisenhower on 1956-01-05\n",
      "   dwight eisenhower on 1957-01-10\n",
      "        jimmy carter on 1978-01-19\n",
      "        jimmy carter on 1980-01-21\n",
      "        jimmy carter on 1979-01-25\n",
      "\n",
      "Topic #3: world economic free strength defense today shall military freedom production\n",
      "   dwight eisenhower on 1959-01-09\n",
      "   dwight eisenhower on 1958-01-09\n",
      "  franklin roosevelt on 1941-01-06\n",
      "        harry truman on 1952-01-09\n",
      "   dwight eisenhower on 1953-02-02\n",
      "\n",
      "Topic #4: men work conditions interstate law labor industrial business man corporations\n",
      "  theodore roosevelt on 1908-12-08\n",
      "  theodore roosevelt on 1901-12-03\n",
      "  theodore roosevelt on 1905-12-05\n",
      "  theodore roosevelt on 1904-12-06\n",
      "  theodore roosevelt on 1907-12-03\n",
      "\n",
      "Topic #5: soviet world free aggression union challenge countries know economic meet\n",
      "        jimmy carter on 1980-01-23\n",
      "   dwight eisenhower on 1953-02-02\n",
      "        harry truman on 1953-01-07\n",
      "        harry truman on 1951-01-08\n",
      "       ronald reagan on 1987-01-27\n",
      "\n",
      "Topic #6: 000 cent construction agriculture budget relief board veterans banks expenditures\n",
      "      herbert hoover on 1930-12-02\n",
      "      herbert hoover on 1929-12-03\n",
      "    johnquincy adams on 1826-12-05\n",
      "     calvin coolidge on 1927-12-06\n",
      "     calvin coolidge on 1928-12-04\n",
      "\n",
      "Topic #7: enemy british american command britain arms officer ships force having\n",
      "       james madison on 1813-12-07\n",
      "       james madison on 1814-09-20\n",
      "       james madison on 1812-11-04\n",
      "       james madison on 1811-11-05\n",
      "  franklin roosevelt on 1942-01-06\n",
      "\n",
      "Topic #8: mexico texas mexican treaty territory minister executive treasury terms enemy\n",
      "          james polk on 1846-12-08\n",
      "          james polk on 1847-12-07\n",
      "          john tyler on 1844-12-03\n",
      "          john tyler on 1844-12-03\n",
      "          james polk on 1845-12-02\n",
      "\n",
      "Topic #9: gold silver notes currency circulation banks treasury bonds value bank\n",
      "    grover cleveland on 1895-12-02\n",
      "     martin vanburen on 1839-12-02\n",
      "    william mckinley on 1897-12-06\n",
      "    grover cleveland on 1894-12-03\n",
      "      andrew johnson on 1868-12-09\n",
      "\n",
      "Topic #10: billion programs million percent program budget act tax cities expenditures\n",
      "      lyndon johnson on 1968-01-17\n",
      "      lyndon johnson on 1969-01-14\n",
      "       ronald reagan on 1981-02-18\n",
      "        harry truman on 1946-01-21\n",
      "      lyndon johnson on 1967-01-10\n",
      "\n",
      "Topic #11: spain treaty spanish minister article negotiation view tribes coast commissioners\n",
      "        james monroe on 1819-12-07\n",
      "        james monroe on 1818-11-16\n",
      "        james monroe on 1820-11-14\n",
      "    william mckinley on 1897-12-06\n",
      "        james monroe on 1821-12-03\n",
      "\n",
      "Topic #12: jobs energy like job deficit work want companies know right\n",
      "        barack obama on 2012-01-24\n",
      "        barack obama on 2013-02-12\n",
      "        barack obama on 2011-01-25\n",
      "        barack obama on 2010-01-27\n",
      "        barack obama on 2014-01-28\n",
      "\n",
      "Topic #13: energy oil programs inflation nuclear percent major federal soviet billion\n",
      "         gerald ford on 1975-01-15\n",
      "         gerald ford on 1977-01-12\n",
      "        jimmy carter on 1980-01-21\n",
      "        jimmy carter on 1981-01-16\n",
      "        jimmy carter on 1978-01-19\n",
      "\n",
      "Topic #14: measures representatives indians house satisfaction provision information commerce ought shall\n",
      "   george washington on 1795-12-08\n",
      "   george washington on 1790-01-08\n",
      "   george washington on 1791-10-25\n",
      "   george washington on 1790-12-08\n",
      "   george washington on 1792-11-06\n",
      "\n"
     ]
    }
   ],
   "source": [
    "# Fit the NMF model using the Frobenius norm\n",
    "nmf = NMF(n_components=n_topics, random_state=1, \n",
    "          alpha=.1, l1_ratio=.5, solver='mu',\n",
    "          beta_loss='frobenius').fit(tfidf)\n",
    "\n",
    "print(\"\\nTopics in NMF model (Frobenius norm):\\n\")\n",
    "tfidf_feature_names = tfidf_vectorizer.get_feature_names()\n",
    "display_topics(nmf, nmf.transform(tfidf), tfidf_feature_names, \n",
    "               sotu_df, n_top_words, n_top_documents)"
   ]
  },
  {
   "cell_type": "markdown",
   "metadata": {},
   "source": [
    "Ok, now we have some interesting stuff to talk about! Let's breakdown these topics and see what these SOTUs have in common. \n",
    "\n",
    "Interestingly, many of these topics are attributed to SOTUs from common eras. This is likely because the problems of an era are addressed by the presidents of those eras. The really interesting results are when well-separated SOTUs are grouped together. We'll mostly focus on those, but will mention some other interesting points in history. \n",
    "\n",
    " - Topic #5: This one looks to be about the Soviet Union as an aggressor and economic power that challenged the US. Truman and Eisenhower were concerned about this during the height of McCarthyism. Carter and Reagan spoke about the Soviet Union during the Soviet-Afghan War.\n",
    " \n",
    " - Topic #8: Madison's and Roosevelt's presidencies are separated by 100+ years, so it's a little surprising to see them grouped together. In his addresses Madison is writing about the British during the War of 1812. Roosevelt is speaking about Britain as an ally at the start of the US' involvement in WWII. They're both talking about war and Britain, but as a foe and as an ally. \n",
    " \n",
    " - Topic #9: Tyler and Polk were understandable concerned about relations with Texas and Mexico. Under Tyler's presidency the Republic of Texas was annexed in 1845. This then sparked the Mexican-American War which lasted through much of Polk's presidency. \n",
    " \n",
    " - Topic #12: President Obama had to deal with the Great Recession, so jobs and the ability to work were front and center in his addresses. \n",
    " \n",
    " - Topic #13: The energy crises of the 70s were great concerns for America. The Soviet Union was a large oil producing state, so they were also featured in the addresses of Ford and Carter. "
   ]
  },
  {
   "cell_type": "markdown",
   "metadata": {},
   "source": [
    "# Wrap-up\n",
    "\n",
    "We cleaned up the SOTU data set I collected and learned things. The length of written SOTUs is not normally distributed and is skewed toward longer speaches. There are many important topics that appear across several SOTU addresses, such as the Soviet Union, the energy crises of the 70s, and the concerns about war. \n",
    "\n",
    "There's still a lot we can tease out from this data set, but I'll leave things here for now. We can always revisit in the future. "
   ]
  }
 ],
 "metadata": {
  "kernelspec": {
   "display_name": "Python 3",
   "language": "python",
   "name": "python3"
  },
  "language_info": {
   "codemirror_mode": {
    "name": "ipython",
    "version": 3
   },
   "file_extension": ".py",
   "mimetype": "text/x-python",
   "name": "python",
   "nbconvert_exporter": "python",
   "pygments_lexer": "ipython3",
   "version": "3.6.3"
  }
 },
 "nbformat": 4,
 "nbformat_minor": 2
}
